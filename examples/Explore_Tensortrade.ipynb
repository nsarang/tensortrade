{
 "cells": [
  {
   "cell_type": "markdown",
   "metadata": {
    "heading_collapsed": true
   },
   "source": [
    "## Install TensorTrade"
   ]
  },
  {
   "cell_type": "code",
   "execution_count": 1,
   "metadata": {
    "ExecuteTime": {
     "end_time": "2020-08-25T16:05:50.557442Z",
     "start_time": "2020-08-25T16:05:50.553407Z"
    },
    "hidden": true
   },
   "outputs": [],
   "source": [
    "# !python3 -m pip install git+https://github.com/nsarang/tensortrade.git"
   ]
  },
  {
   "cell_type": "markdown",
   "metadata": {},
   "source": [
    "## Setup"
   ]
  },
  {
   "cell_type": "code",
   "execution_count": 87,
   "metadata": {
    "ExecuteTime": {
     "end_time": "2020-08-31T17:47:29.636582Z",
     "start_time": "2020-08-31T17:47:29.008240Z"
    }
   },
   "outputs": [],
   "source": [
    "# Put these at the top of every notebook, to get automatic reloading and inline plotting\n",
    "%reload_ext autoreload\n",
    "%autoreload 2\n",
    "%matplotlib inline"
   ]
  },
  {
   "cell_type": "code",
   "execution_count": 88,
   "metadata": {
    "ExecuteTime": {
     "end_time": "2020-08-31T17:47:30.698755Z",
     "start_time": "2020-08-31T17:47:30.231286Z"
    }
   },
   "outputs": [],
   "source": [
    "import asyncio\n",
    "import ccxt\n",
    "# import ccxt.async_support as ccxt\n",
    "\n",
    "apiKey = \"jxlzo1mxQ1PDckz4aYgH2WDgFxpJjBu47r3OB4vyLyZkEeyJ4xjOM6m32mvsIgmu\"\n",
    "secret = \"EffQgaLRPl52q0YEpVKcIHDeqyrFBQWm2K1Er99egbQ1c75X7fDREg4UtzhSaCJM\"\n",
    "\n",
    "exchange = ccxt.binance({\n",
    "        \"apiKey\": apiKey,\n",
    "        \"secret\": secret,\n",
    "        \"enableRateLimit\": True,\n",
    "        # 'options': {\n",
    "        #     'defaultType': 'spot', // spot, future, margin\n",
    "        # },\n",
    "    }\n",
    ")"
   ]
  },
  {
   "cell_type": "code",
   "execution_count": 89,
   "metadata": {
    "ExecuteTime": {
     "end_time": "2020-08-31T17:47:31.641821Z",
     "start_time": "2020-08-31T17:47:31.153532Z"
    }
   },
   "outputs": [],
   "source": [
    "import re\n",
    "import sys\n",
    "import time\n",
    "import pandas as pd\n",
    "import numpy as np\n",
    "from datetime import datetime, timedelta, timezone\n",
    "from tenacity import retry, retry_if_exception_type, stop_after_attempt\n",
    "import pytz\n",
    "\n",
    "\n",
    "@retry(retry=retry_if_exception_type(ccxt.NetworkError), stop=stop_after_attempt(3))\n",
    "def get_historical_data(\n",
    "    symbol, exchange, timeframe, start_date=None, limit=500, max_per_page=500\n",
    "):\n",
    "    \"\"\"Get historical OHLCV for a symbol pair\n",
    "\n",
    "    Decorators:\n",
    "        retry\n",
    "\n",
    "    Args:\n",
    "        symbol (str): Contains the symbol pair to operate on i.e. BURST/BTC\n",
    "        exchange (str): Contains the exchange to fetch the historical data from.\n",
    "        timeframe (str): A string specifying the ccxt time unit i.e. 5m or 1d.\n",
    "        start_date (int, optional): Timestamp in milliseconds.\n",
    "        max_periods (int, optional): Defaults to 100. Maximum number of time periods\n",
    "          back to fetch data for.\n",
    "\n",
    "    Returns:\n",
    "        list: Contains a list of lists which contain timestamp, open, high, low, close, volume.\n",
    "    \"\"\"\n",
    "\n",
    "    try:\n",
    "        if timeframe not in exchange.timeframes:\n",
    "            raise ValueError(\n",
    "                \"{} does not support {} timeframe for OHLCV data. Possible values are: {}\".format(\n",
    "                    exchange, timeframe, list(exchange.timeframes)\n",
    "                )\n",
    "            )\n",
    "    except AttributeError:\n",
    "        self.logger.error(\n",
    "            \"%s interface does not support timeframe queries! We are unable to fetch data!\",\n",
    "            exchange,\n",
    "        )\n",
    "        raise AttributeError(sys.exc_info())\n",
    "\n",
    "    timeframe_regex = re.compile(\"([0-9]+)([a-zA-Z])\")\n",
    "    timeframe_matches = timeframe_regex.match(timeframe)\n",
    "    time_quantity = timeframe_matches.group(1)\n",
    "    time_period = timeframe_matches.group(2)\n",
    "    timedelta_values = {\n",
    "        \"m\": \"minutes\",\n",
    "        \"h\": \"hours\",\n",
    "        \"d\": \"days\",\n",
    "        \"w\": \"weeks\",\n",
    "        \"M\": \"months\",\n",
    "        \"y\": \"years\",\n",
    "    }\n",
    "\n",
    "    timedelta_args = {timedelta_values[time_period]: int(time_quantity)}\n",
    "    single_frame = timedelta(**timedelta_args)\n",
    "\n",
    "    if not start_date:\n",
    "        start_datetime = datetime.now() - (limit * single_frame)\n",
    "        start_date = int(start_datetime.timestamp() * 1000)\n",
    "        total = limit\n",
    "\n",
    "    else:\n",
    "        total = (datetime.now() - start_date * 1000) // single_frame.total_seconds()\n",
    "        if limit:\n",
    "            total = min(limit, total)\n",
    "\n",
    "    historical_data = []\n",
    "    for cursor in range(0, total, max_per_page):\n",
    "        curr_start_date = start_date + int(cursor * single_frame.total_seconds() * 1000)\n",
    "        limit = min(total - cursor, max_per_page)\n",
    "        historical_data += exchange.fetch_ohlcv(\n",
    "            symbol, timeframe=timeframe, since=curr_start_date, limit=limit\n",
    "        )\n",
    "\n",
    "    if not historical_data:\n",
    "        raise ValueError(\"No historical data provided returned by exchange.\")\n",
    "\n",
    "    if len(historical_data) != total:\n",
    "        raise ValueError(\"Gaps detected in historical data.\")\n",
    "\n",
    "    # Sort by timestamp in ascending order\n",
    "    historical_data.sort(key=lambda d: d[0])\n",
    "\n",
    "    return historical_data\n",
    "\n",
    "\n",
    "def timestamp_to_datetime(\n",
    "    timestamp, timezone=pytz.timezone(\"America/Montreal\"), to_str=False\n",
    "):\n",
    "    time = datetime.fromtimestamp(timestamp, timezone)\n",
    "    if to_str:\n",
    "        time = time.strftime(\"%Y-%m-%dT%H:%M:%S.%f\")[:-3] + \"Z\"\n",
    "    return time\n",
    "\n",
    "\n",
    "def convert_to_dataframe(historical_data):\n",
    "    \"\"\"Converts historical data matrix to a pandas dataframe.\n",
    "\n",
    "    Args:\n",
    "        historical_data (list): A matrix of historical OHCLV data.\n",
    "\n",
    "    Returns:\n",
    "        pandas.DataFrame: Contains the historical data in a pandas dataframe.\n",
    "    \"\"\"\n",
    "\n",
    "    dataframe = pd.DataFrame(historical_data)\n",
    "    dataframe.transpose()\n",
    "\n",
    "    dataframe.columns = [\"timestamp\", \"open\", \"high\", \"low\", \"close\", \"volume\"]\n",
    "    dataframe[\"datetime\"] = dataframe.timestamp.apply(\n",
    "        lambda x: timestamp_to_datetime(x / 1000)\n",
    "    )\n",
    "\n",
    "    dataframe.set_index(\"datetime\", inplace=True, drop=True)\n",
    "    dataframe.drop(\"timestamp\", axis=1, inplace=True)\n",
    "\n",
    "    return dataframe"
   ]
  },
  {
   "cell_type": "code",
   "execution_count": 90,
   "metadata": {
    "ExecuteTime": {
     "end_time": "2020-08-31T17:47:33.070595Z",
     "start_time": "2020-08-31T17:47:32.569686Z"
    }
   },
   "outputs": [],
   "source": [
    "def shift(values: np.ndarray, periods: int, axis, fill_value) -> np.ndarray:\n",
    "    new_values = values\n",
    "\n",
    "    if periods == 0 or values.size == 0:\n",
    "        return new_values.copy()\n",
    "\n",
    "    # make sure array sent to np.roll is c_contiguous\n",
    "    f_ordered = values.flags.f_contiguous\n",
    "    if f_ordered:\n",
    "        new_values = new_values.T\n",
    "        axis = new_values.ndim - axis - 1\n",
    "\n",
    "    if np.prod(new_values.shape):\n",
    "        new_values = np.roll(new_values, periods, axis=axis)\n",
    "\n",
    "    axis_indexer = [ slice(None)] * values.ndim\n",
    "    if periods > 0:\n",
    "        axis_indexer[axis] = slice(None, periods)\n",
    "    else:\n",
    "        axis_indexer[axis] = slice(periods, None)\n",
    "    new_values[tuple(axis_indexer)] = fill_value\n",
    "\n",
    "    # restore original order\n",
    "    if f_ordered:\n",
    "        new_values = new_values.T\n",
    "\n",
    "    return new_values\n",
    "\n",
    "\n",
    "def crossing(a, b):\n",
    "    a_plus = shift(a, 1, axis=0, fill_value=0)\n",
    "    b_plus = shift(b, 1, axis=0, fill_value=0)\n",
    "    cross = np.where(\n",
    "        (a <= b) & (a_plus >= b_plus),\n",
    "        1,\n",
    "        np.where(((a >= b) & (a_plus <= b_plus)), -1, 0),\n",
    "    )\n",
    "    return cross\n",
    "\n",
    "\n",
    "def SWING_CALLS(df):\n",
    "    ema = ta.EMA(df.close, 5)\n",
    "    sma = ta.SMA(df.close, 50)\n",
    "    rsi = ta.RSI(df.close, 14)\n",
    "\n",
    "    color = np.where(\n",
    "        (rsi >= 85) | (rsi <= 15),\n",
    "        \"YELLOW\",\n",
    "        np.where(df.low > sma, \"LIME\", np.where(df.high < sma, \"RED\", \"YELLOW\")),\n",
    "    )\n",
    "\n",
    "    buyexit = rsi > 80\n",
    "    sellexit = rsi < 30\n",
    "\n",
    "    sellcall = (crossing(sma, ema) > 0) & (df.open > df.close)\n",
    "    buycall = (crossing(sma, ema) < 0) & (df.high > sma)\n",
    "\n",
    "    return buyexit, sellexit, sellcall, buycall\n",
    "\n",
    "\n",
    "def smooth_range(series, period, mult):\n",
    "    wper = period * 2 - 1\n",
    "    diff = (series - series.shift(1, fill_value=0)).abs()\n",
    "    average = ta.EMA(diff, period)\n",
    "    smoothed = ta.EMA(average, wper) * mult\n",
    "    smoothed = pd.Series(smoothed, index=series.index)\n",
    "    return smoothed\n",
    "\n",
    "\n",
    "def filter_range(series, smoothrng):\n",
    "    result = series.shift(1, fill_value=0)\n",
    "    for time, (close, smth) in enumerate(zip(series, smoothrng)):\n",
    "        prev = result.iloc[time]\n",
    "        if time == 0 or ((close >= prev - smth) and (close <=  prev +smth)):\n",
    "            continue\n",
    "            \n",
    "        if close > prev + smth:\n",
    "            prev = close - smth\n",
    "        else:\n",
    "            prev = close + smth\n",
    "        result.iloc[time] = prev\n",
    "    return result\n",
    "\n",
    "\n",
    "def Range_Filter_Buy_Sell(df, period=100, range_multiplier=3):\n",
    "    # Smooth Average Range\n",
    "    smoothed = smooth_range(df.close, period, range_multiplier)\n",
    "\n",
    "    # Range Filter\n",
    "    filtered = filter_range(df.close, smoothed)\n",
    "\n",
    "    buycall = (df.close > filtered) & (df.close > df.close.shift(1)) & (filtered > filtered.shift(1))\n",
    "    sellcall = (df.close < filtered) & (df.close < df.close.shift(1)) & (filtered < filtered.shift(1))\n",
    "    return buycall, sellcall\n",
    "\n",
    "\n",
    "def calculate_profit(ohlvc, buycall, sellcall, start_from=100, trade_fee=0.1):\n",
    "    money = 1\n",
    "    asset = 0\n",
    "    last_buy = ohlvc.iloc[start_from][\"close\"]\n",
    "    trade_cost = 0\n",
    "    trade_fee /= 100\n",
    "    for time, (buy, sell) in enumerate(zip(buycall, sellcall)):\n",
    "        if time < start_from:\n",
    "            continue\n",
    "\n",
    "        if buy and money and (time != len(ohlvc) - 1):\n",
    "            trade_cost += money * trade_fee\n",
    "            money *= (1 - trade_fee)\n",
    "            asset = money / ohlvc.iloc[time][\"close\"]\n",
    "            money = 0\n",
    "            last_buy = ohlvc.iloc[time][\"close\"]\n",
    "        \n",
    "        elif (sell or (time == len(ohlvc) - 1)) and asset:\n",
    "            money = asset * ohlvc.iloc[time][\"close\"]\n",
    "            trade_cost += money * trade_fee\n",
    "            money *= (1 - trade_fee)\n",
    "            asset = 0\n",
    "    \n",
    "    return money, trade_cost"
   ]
  },
  {
   "cell_type": "markdown",
   "metadata": {},
   "source": [
    "## Data"
   ]
  },
  {
   "cell_type": "markdown",
   "metadata": {},
   "source": [
    "### Load"
   ]
  },
  {
   "cell_type": "code",
   "execution_count": 91,
   "metadata": {
    "ExecuteTime": {
     "end_time": "2020-08-31T17:47:35.257525Z",
     "start_time": "2020-08-31T17:47:34.790629Z"
    }
   },
   "outputs": [],
   "source": [
    "import pandas as pd\n",
    "import tensortrade.env.default as default\n",
    "\n",
    "from tensortrade.data.cdd import CryptoDataDownload\n",
    "from tensortrade.feed.core import Stream, DataFeed\n",
    "from tensortrade.oms.exchanges import Exchange\n",
    "from tensortrade.oms.services.execution.simulated import execute_order\n",
    "from tensortrade.oms.instruments import USD, BTC, ETH\n",
    "from tensortrade.oms.wallets import Wallet, Portfolio\n",
    "from tensortrade.agents import DQNAgent\n",
    "\n",
    "\n",
    "%matplotlib inline"
   ]
  },
  {
   "cell_type": "code",
   "execution_count": 92,
   "metadata": {
    "ExecuteTime": {
     "end_time": "2020-08-31T17:47:39.309361Z",
     "start_time": "2020-08-31T17:47:36.482557Z"
    },
    "scrolled": true
   },
   "outputs": [
    {
     "data": {
      "text/html": [
       "<div>\n",
       "<style scoped>\n",
       "    .dataframe tbody tr th:only-of-type {\n",
       "        vertical-align: middle;\n",
       "    }\n",
       "\n",
       "    .dataframe tbody tr th {\n",
       "        vertical-align: top;\n",
       "    }\n",
       "\n",
       "    .dataframe thead th {\n",
       "        text-align: right;\n",
       "    }\n",
       "</style>\n",
       "<table border=\"1\" class=\"dataframe\">\n",
       "  <thead>\n",
       "    <tr style=\"text-align: right;\">\n",
       "      <th></th>\n",
       "      <th>date</th>\n",
       "      <th>symbol</th>\n",
       "      <th>open</th>\n",
       "      <th>high</th>\n",
       "      <th>low</th>\n",
       "      <th>close</th>\n",
       "      <th>volume_btc</th>\n",
       "      <th>volume</th>\n",
       "    </tr>\n",
       "  </thead>\n",
       "  <tbody>\n",
       "    <tr>\n",
       "      <th>20110</th>\n",
       "      <td>2017-07-01 11:00:00</td>\n",
       "      <td>BTCUSD</td>\n",
       "      <td>2505.56</td>\n",
       "      <td>2513.38</td>\n",
       "      <td>2495.12</td>\n",
       "      <td>2509.17</td>\n",
       "      <td>114.60</td>\n",
       "      <td>287000.32</td>\n",
       "    </tr>\n",
       "    <tr>\n",
       "      <th>20109</th>\n",
       "      <td>2017-07-01 12:00:00</td>\n",
       "      <td>BTCUSD</td>\n",
       "      <td>2509.17</td>\n",
       "      <td>2512.87</td>\n",
       "      <td>2484.99</td>\n",
       "      <td>2488.43</td>\n",
       "      <td>157.36</td>\n",
       "      <td>393142.50</td>\n",
       "    </tr>\n",
       "    <tr>\n",
       "      <th>20108</th>\n",
       "      <td>2017-07-01 13:00:00</td>\n",
       "      <td>BTCUSD</td>\n",
       "      <td>2488.43</td>\n",
       "      <td>2488.43</td>\n",
       "      <td>2454.40</td>\n",
       "      <td>2454.43</td>\n",
       "      <td>280.28</td>\n",
       "      <td>693254.01</td>\n",
       "    </tr>\n",
       "    <tr>\n",
       "      <th>20107</th>\n",
       "      <td>2017-07-01 14:00:00</td>\n",
       "      <td>BTCUSD</td>\n",
       "      <td>2454.43</td>\n",
       "      <td>2473.93</td>\n",
       "      <td>2450.83</td>\n",
       "      <td>2459.35</td>\n",
       "      <td>289.42</td>\n",
       "      <td>712864.80</td>\n",
       "    </tr>\n",
       "    <tr>\n",
       "      <th>20106</th>\n",
       "      <td>2017-07-01 15:00:00</td>\n",
       "      <td>BTCUSD</td>\n",
       "      <td>2459.35</td>\n",
       "      <td>2475.00</td>\n",
       "      <td>2450.00</td>\n",
       "      <td>2467.83</td>\n",
       "      <td>276.82</td>\n",
       "      <td>682105.41</td>\n",
       "    </tr>\n",
       "  </tbody>\n",
       "</table>\n",
       "</div>"
      ],
      "text/plain": [
       "                     date  symbol     open     high      low    close  \\\n",
       "20110 2017-07-01 11:00:00  BTCUSD  2505.56  2513.38  2495.12  2509.17   \n",
       "20109 2017-07-01 12:00:00  BTCUSD  2509.17  2512.87  2484.99  2488.43   \n",
       "20108 2017-07-01 13:00:00  BTCUSD  2488.43  2488.43  2454.40  2454.43   \n",
       "20107 2017-07-01 14:00:00  BTCUSD  2454.43  2473.93  2450.83  2459.35   \n",
       "20106 2017-07-01 15:00:00  BTCUSD  2459.35  2475.00  2450.00  2467.83   \n",
       "\n",
       "       volume_btc     volume  \n",
       "20110      114.60  287000.32  \n",
       "20109      157.36  393142.50  \n",
       "20108      280.28  693254.01  \n",
       "20107      289.42  712864.80  \n",
       "20106      276.82  682105.41  "
      ]
     },
     "execution_count": 92,
     "metadata": {},
     "output_type": "execute_result"
    }
   ],
   "source": [
    "# cdd = CryptoDataDownload()\n",
    "# data = cdd.fetch(\"Coinbase\", \"USD\", \"BTC\", \"1h\")\n",
    "\n",
    "\n",
    "data = pd.read_csv(\"data/Coinbase_BTCUSD_1h.csv\", skiprows=1)\n",
    "data[\"date\"] = pd.to_datetime(data[\"date\"], format=\"%Y-%m-%d %I-%p\")\n",
    "data = data.sort_values(\"date\")\n",
    "data.head()"
   ]
  },
  {
   "cell_type": "markdown",
   "metadata": {},
   "source": [
    "### Create features with the feed module"
   ]
  },
  {
   "cell_type": "code",
   "execution_count": 93,
   "metadata": {
    "ExecuteTime": {
     "end_time": "2020-08-31T17:47:41.785089Z",
     "start_time": "2020-08-31T17:47:41.319110Z"
    }
   },
   "outputs": [],
   "source": [
    "def rsi(price: Stream[float], period: float) -> Stream[float]:\n",
    "    r = price.diff()\n",
    "    upside = r.clamp_min(0).abs()\n",
    "    downside = r.clamp_max(0).abs()\n",
    "    rs = upside.ewm(alpha=1 / period).mean() / downside.ewm(alpha=1 / period).mean()\n",
    "    return 100*(1 - (1 + rs) ** -1)\n",
    "\n",
    "\n",
    "def macd(price: Stream[float], fast: float, slow: float, signal: float) -> Stream[float]:\n",
    "    fm = price.ewm(span=fast, adjust=False).mean()\n",
    "    sm = price.ewm(span=slow, adjust=False).mean()\n",
    "    md = fm - sm\n",
    "    signal = md - md.ewm(span=signal, adjust=False).mean()\n",
    "    return signal"
   ]
  },
  {
   "cell_type": "code",
   "execution_count": 94,
   "metadata": {
    "ExecuteTime": {
     "end_time": "2020-08-31T17:47:43.242011Z",
     "start_time": "2020-08-31T17:47:42.751692Z"
    }
   },
   "outputs": [],
   "source": [
    "features = [\n",
    "    Stream.source(list(data[c]), dtype=\"float\").rename(data[c].name)\n",
    "    for c in data.columns[1:]\n",
    "]"
   ]
  },
  {
   "cell_type": "code",
   "execution_count": 95,
   "metadata": {
    "ExecuteTime": {
     "end_time": "2020-08-31T17:47:45.981858Z",
     "start_time": "2020-08-31T17:47:45.519506Z"
    }
   },
   "outputs": [],
   "source": [
    "close = Stream.select(features, lambda s: s.name == \"close\")"
   ]
  },
  {
   "cell_type": "code",
   "execution_count": 96,
   "metadata": {
    "ExecuteTime": {
     "end_time": "2020-08-31T17:47:46.360145Z",
     "start_time": "2020-08-31T17:47:45.984074Z"
    }
   },
   "outputs": [
    {
     "data": {
      "text/plain": [
       "<abc.Stream at 0x2b5e59ee7b00>"
      ]
     },
     "execution_count": 96,
     "metadata": {},
     "output_type": "execute_result"
    }
   ],
   "source": [
    "class Listener:\n",
    "    def on_next(self, value):\n",
    "        print(value)\n",
    "\n",
    "close.attach(Listener())"
   ]
  },
  {
   "cell_type": "code",
   "execution_count": 97,
   "metadata": {
    "ExecuteTime": {
     "end_time": "2020-08-31T17:47:49.214053Z",
     "start_time": "2020-08-31T17:47:48.734190Z"
    }
   },
   "outputs": [],
   "source": [
    "from tensortrade.feed.core import Stream\n",
    "ss = Stream.source([1, 2, 3, 4, 5], dtype=\"float\")"
   ]
  },
  {
   "cell_type": "code",
   "execution_count": 107,
   "metadata": {
    "ExecuteTime": {
     "end_time": "2020-08-31T17:50:00.238763Z",
     "start_time": "2020-08-31T17:49:59.778119Z"
    }
   },
   "outputs": [
    {
     "name": "stdout",
     "output_type": "stream",
     "text": [
      "abc.Stream # <abc._Stream object at 0x2b5e59ef37b8>\n",
      "<class 'tuple'> # (<abc._Stream object at 0x2b5e59ef37b8>,)\n"
     ]
    }
   ],
   "source": [
    "ff = DataFeed([ss.ewm(span=1).mean()])"
   ]
  },
  {
   "cell_type": "code",
   "execution_count": 111,
   "metadata": {
    "ExecuteTime": {
     "end_time": "2020-08-31T17:50:06.806275Z",
     "start_time": "2020-08-31T17:50:06.339610Z"
    }
   },
   "outputs": [
    {
     "data": {
      "text/plain": [
       "{'stream:/207': 4.0}"
      ]
     },
     "execution_count": 111,
     "metadata": {},
     "output_type": "execute_result"
    }
   ],
   "source": [
    "ff.next()"
   ]
  },
  {
   "cell_type": "code",
   "execution_count": null,
   "metadata": {},
   "outputs": [],
   "source": []
  },
  {
   "cell_type": "code",
   "execution_count": 53,
   "metadata": {
    "ExecuteTime": {
     "end_time": "2020-08-31T00:20:56.995510Z",
     "start_time": "2020-08-31T00:20:56.669022Z"
    }
   },
   "outputs": [],
   "source": [
    "features = [\n",
    "    close.ewm(span=14).mean().rename(\"ema\"),\n",
    "    close.ewm(alpha=1).mean().rename(\"sma\"),\n",
    "    close.log().diff().rename(\"lr\"),\n",
    "    rsi(close, period=20).rename(\"rsi\"),\n",
    "    macd(close, fast=10, slow=50, signal=5).rename(\"macd\")\n",
    "]\n",
    "\n",
    "feed = DataFeed(features)\n",
    "feed.compile()"
   ]
  },
  {
   "cell_type": "code",
   "execution_count": 54,
   "metadata": {
    "ExecuteTime": {
     "end_time": "2020-08-31T00:21:05.742164Z",
     "start_time": "2020-08-31T00:21:05.411415Z"
    }
   },
   "outputs": [
    {
     "name": "stdout",
     "output_type": "stream",
     "text": [
      "2509.17\n",
      "{\n",
      "    \"ema\": 2509.17,\n",
      "    \"sma\": 2509.17,\n",
      "    \"lr\": NaN,\n",
      "    \"rsi\": NaN,\n",
      "    \"macd\": 0.0\n",
      "}\n",
      "2488.43\n",
      "{\n",
      "    \"ema\": 2498.0592857142856,\n",
      "    \"sma\": 2488.43,\n",
      "    \"lr\": -0.008300031641449657,\n",
      "    \"rsi\": 0.0,\n",
      "    \"macd\": -1.9717171717171975\n",
      "}\n",
      "2454.43\n",
      "{\n",
      "    \"ema\": 2481.3927504244484,\n",
      "    \"sma\": 2454.43,\n",
      "    \"lr\": -0.01375743446296962,\n",
      "    \"rsi\": 0.0,\n",
      "    \"macd\": -6.082702245269603\n",
      "}\n",
      "2459.35\n",
      "{\n",
      "    \"ema\": 2474.649251269036,\n",
      "    \"sma\": 2459.35,\n",
      "    \"lr\": 0.0020025323250756344,\n",
      "    \"rsi\": 8.795475693113076,\n",
      "    \"macd\": -7.287625162566419\n",
      "}\n",
      "2467.83\n",
      "{\n",
      "    \"ema\": 2472.8701190470056,\n",
      "    \"sma\": 2467.83,\n",
      "    \"lr\": 0.00344213459739251,\n",
      "    \"rsi\": 21.34663357024277,\n",
      "    \"macd\": -6.522181201739986\n",
      "}\n"
     ]
    }
   ],
   "source": [
    "import json\n",
    "\n",
    "for i in range(5):\n",
    "    obsv = feed.next()\n",
    "#     print(data)\n",
    "    print(json.dumps(obsv, indent=4))"
   ]
  },
  {
   "cell_type": "markdown",
   "metadata": {},
   "source": [
    "## Setup Trading Environment"
   ]
  },
  {
   "cell_type": "code",
   "execution_count": 59,
   "metadata": {
    "ExecuteTime": {
     "end_time": "2020-08-25T17:56:56.751802Z",
     "start_time": "2020-08-25T17:56:56.623732Z"
    }
   },
   "outputs": [],
   "source": [
    "coinbase = Exchange(\"coinbase\", service=execute_order)(\n",
    "    Stream.source(list(data[\"close\"]), dtype=\"float\").rename(\"USD-BTC\")\n",
    ")\n",
    "\n",
    "portfolio = Portfolio(USD, [\n",
    "    Wallet(coinbase, 10000 * USD),\n",
    "    Wallet(coinbase, 10 * BTC)\n",
    "])\n",
    "\n",
    "\n",
    "renderer_feed = DataFeed([\n",
    "    Stream.source(list(data[\"date\"])).rename(\"date\"),\n",
    "    Stream.source(list(data[\"open\"]), dtype=\"float\").rename(\"open\"),\n",
    "    Stream.source(list(data[\"high\"]), dtype=\"float\").rename(\"high\"),\n",
    "    Stream.source(list(data[\"low\"]), dtype=\"float\").rename(\"low\"),\n",
    "    Stream.source(list(data[\"close\"]), dtype=\"float\").rename(\"close\"), \n",
    "    Stream.source(list(data[\"volume\"]), dtype=\"float\").rename(\"volume\") \n",
    "])\n",
    "\n",
    "\n",
    "env = default.create(\n",
    "    portfolio=portfolio,\n",
    "    action_scheme=\"managed-risk\",\n",
    "    reward_scheme=\"risk-adjusted\",\n",
    "    feed=feed,\n",
    "    renderer_feed=renderer_feed,\n",
    "#     renderer=default.renderers.PlotlyTradingChart(),\n",
    "    window_size=20\n",
    ")"
   ]
  },
  {
   "cell_type": "code",
   "execution_count": 60,
   "metadata": {
    "ExecuteTime": {
     "end_time": "2020-08-25T17:56:58.521750Z",
     "start_time": "2020-08-25T17:56:57.420853Z"
    }
   },
   "outputs": [
    {
     "data": {
      "text/plain": [
       "{'internal': {'coinbase:/USD-BTC': 2509.17,\n",
       "  'coinbase:/USD:/free': 10000.0,\n",
       "  'coinbase:/USD:/locked': 0.0,\n",
       "  'coinbase:/USD:/total': 10000.0,\n",
       "  'coinbase:/BTC:/free': 10.0,\n",
       "  'coinbase:/BTC:/locked': 0.0,\n",
       "  'coinbase:/BTC:/total': 10.0,\n",
       "  'coinbase:/BTC:/worth': 25091.7,\n",
       "  'net_worth': 35091.7},\n",
       " 'external': {'lr': nan, 'rsi': nan, 'macd': 0.0},\n",
       " 'renderer': {'date': Timestamp('2017-07-01 11:00:00'),\n",
       "  'open': 2505.56,\n",
       "  'high': 2513.38,\n",
       "  'low': 2495.12,\n",
       "  'close': 2509.17,\n",
       "  'volume': 287000.32}}"
      ]
     },
     "execution_count": 60,
     "metadata": {},
     "output_type": "execute_result"
    }
   ],
   "source": [
    "env.observer.feed.next()"
   ]
  },
  {
   "cell_type": "markdown",
   "metadata": {},
   "source": [
    "## Setup and Train DQN Agent"
   ]
  },
  {
   "cell_type": "code",
   "execution_count": 61,
   "metadata": {
    "ExecuteTime": {
     "end_time": "2020-08-25T17:57:52.345363Z",
     "start_time": "2020-08-25T17:57:15.835560Z"
    }
   },
   "outputs": [
    {
     "name": "stdout",
     "output_type": "stream",
     "text": [
      "====      AGENT ID: 419593c4-ddab-4681-b233-f28da56e5c04      ====\n"
     ]
    },
    {
     "ename": "OSError",
     "evalue": "Unable to create file (unable to open file: name = 'agents/policy_network__419593c4-ddab-4681-b233-f28da56e5c04__001.hdf5', errno = 2, error message = 'No such file or directory', flags = 13, o_flags = 242)",
     "output_type": "error",
     "traceback": [
      "\u001b[0;31m---------------------------------------------------------------------------\u001b[0m",
      "\u001b[0;31mOSError\u001b[0m                                   Traceback (most recent call last)",
      "\u001b[0;32m<ipython-input-61-932ddca207d5>\u001b[0m in \u001b[0;36m<module>\u001b[0;34m\u001b[0m\n\u001b[1;32m      1\u001b[0m \u001b[0magent\u001b[0m \u001b[0;34m=\u001b[0m \u001b[0mDQNAgent\u001b[0m\u001b[0;34m(\u001b[0m\u001b[0menv\u001b[0m\u001b[0;34m)\u001b[0m\u001b[0;34m\u001b[0m\u001b[0m\n\u001b[1;32m      2\u001b[0m \u001b[0;34m\u001b[0m\u001b[0m\n\u001b[0;32m----> 3\u001b[0;31m \u001b[0magent\u001b[0m\u001b[0;34m.\u001b[0m\u001b[0mtrain\u001b[0m\u001b[0;34m(\u001b[0m\u001b[0mn_steps\u001b[0m\u001b[0;34m=\u001b[0m\u001b[0;36m200\u001b[0m\u001b[0;34m,\u001b[0m \u001b[0mn_episodes\u001b[0m\u001b[0;34m=\u001b[0m\u001b[0;36m2\u001b[0m\u001b[0;34m,\u001b[0m \u001b[0msave_path\u001b[0m\u001b[0;34m=\u001b[0m\u001b[0;34m\"agents/\"\u001b[0m\u001b[0;34m)\u001b[0m\u001b[0;34m\u001b[0m\u001b[0m\n\u001b[0m",
      "\u001b[0;32m/scratch/nimas/nimas-python3.6/lib/python3.6/site-packages/tensortrade/agents/dqn_agent.py\u001b[0m in \u001b[0;36mtrain\u001b[0;34m(self, n_steps, n_episodes, save_every, save_path, callback, **kwargs)\u001b[0m\n\u001b[1;32m    185\u001b[0m \u001b[0;34m\u001b[0m\u001b[0m\n\u001b[1;32m    186\u001b[0m             \u001b[0;32mif\u001b[0m \u001b[0msave_path\u001b[0m \u001b[0;32mand\u001b[0m \u001b[0;34m(\u001b[0m\u001b[0mis_checkpoint\u001b[0m \u001b[0;32mor\u001b[0m \u001b[0mepisode\u001b[0m \u001b[0;34m==\u001b[0m \u001b[0mn_episodes\u001b[0m \u001b[0;34m-\u001b[0m \u001b[0;36m1\u001b[0m\u001b[0;34m)\u001b[0m\u001b[0;34m:\u001b[0m\u001b[0;34m\u001b[0m\u001b[0m\n\u001b[0;32m--> 187\u001b[0;31m                 \u001b[0mself\u001b[0m\u001b[0;34m.\u001b[0m\u001b[0msave\u001b[0m\u001b[0;34m(\u001b[0m\u001b[0msave_path\u001b[0m\u001b[0;34m,\u001b[0m \u001b[0mepisode\u001b[0m\u001b[0;34m=\u001b[0m\u001b[0mepisode\u001b[0m\u001b[0;34m)\u001b[0m\u001b[0;34m\u001b[0m\u001b[0m\n\u001b[0m\u001b[1;32m    188\u001b[0m \u001b[0;34m\u001b[0m\u001b[0m\n\u001b[1;32m    189\u001b[0m             \u001b[0;32mif\u001b[0m \u001b[0;32mnot\u001b[0m \u001b[0mrender_interval\u001b[0m \u001b[0;32mor\u001b[0m \u001b[0msteps_done\u001b[0m \u001b[0;34m<\u001b[0m \u001b[0mn_steps\u001b[0m\u001b[0;34m:\u001b[0m\u001b[0;34m\u001b[0m\u001b[0m\n",
      "\u001b[0;32m/scratch/nimas/nimas-python3.6/lib/python3.6/site-packages/tensortrade/agents/dqn_agent.py\u001b[0m in \u001b[0;36msave\u001b[0;34m(self, path, **kwargs)\u001b[0m\n\u001b[1;32m     74\u001b[0m             \u001b[0mfilename\u001b[0m \u001b[0;34m=\u001b[0m \u001b[0;34m\"policy_network__\"\u001b[0m \u001b[0;34m+\u001b[0m \u001b[0mself\u001b[0m\u001b[0;34m.\u001b[0m\u001b[0mid\u001b[0m \u001b[0;34m+\u001b[0m \u001b[0;34m\".hdf5\"\u001b[0m\u001b[0;34m\u001b[0m\u001b[0m\n\u001b[1;32m     75\u001b[0m \u001b[0;34m\u001b[0m\u001b[0m\n\u001b[0;32m---> 76\u001b[0;31m         \u001b[0mself\u001b[0m\u001b[0;34m.\u001b[0m\u001b[0mpolicy_network\u001b[0m\u001b[0;34m.\u001b[0m\u001b[0msave\u001b[0m\u001b[0;34m(\u001b[0m\u001b[0mpath\u001b[0m \u001b[0;34m+\u001b[0m \u001b[0mfilename\u001b[0m\u001b[0;34m)\u001b[0m\u001b[0;34m\u001b[0m\u001b[0m\n\u001b[0m\u001b[1;32m     77\u001b[0m \u001b[0;34m\u001b[0m\u001b[0m\n\u001b[1;32m     78\u001b[0m     \u001b[0;32mdef\u001b[0m \u001b[0mget_action\u001b[0m\u001b[0;34m(\u001b[0m\u001b[0mself\u001b[0m\u001b[0;34m,\u001b[0m \u001b[0mstate\u001b[0m\u001b[0;34m:\u001b[0m \u001b[0mnp\u001b[0m\u001b[0;34m.\u001b[0m\u001b[0mndarray\u001b[0m\u001b[0;34m,\u001b[0m \u001b[0;34m**\u001b[0m\u001b[0mkwargs\u001b[0m\u001b[0;34m)\u001b[0m \u001b[0;34m->\u001b[0m \u001b[0mint\u001b[0m\u001b[0;34m:\u001b[0m\u001b[0;34m\u001b[0m\u001b[0m\n",
      "\u001b[0;32m/scratch/nimas/nimas-python3.6/lib/python3.6/site-packages/tensorflow/python/keras/engine/training.py\u001b[0m in \u001b[0;36msave\u001b[0;34m(self, filepath, overwrite, include_optimizer, save_format, signatures, options)\u001b[0m\n\u001b[1;32m   1977\u001b[0m     \"\"\"\n\u001b[1;32m   1978\u001b[0m     save.save_model(self, filepath, overwrite, include_optimizer, save_format,\n\u001b[0;32m-> 1979\u001b[0;31m                     signatures, options)\n\u001b[0m\u001b[1;32m   1980\u001b[0m \u001b[0;34m\u001b[0m\u001b[0m\n\u001b[1;32m   1981\u001b[0m   def save_weights(self,\n",
      "\u001b[0;32m/scratch/nimas/nimas-python3.6/lib/python3.6/site-packages/tensorflow/python/keras/saving/save.py\u001b[0m in \u001b[0;36msave_model\u001b[0;34m(model, filepath, overwrite, include_optimizer, save_format, signatures, options)\u001b[0m\n\u001b[1;32m    129\u001b[0m           'or using `save_weights`.')\n\u001b[1;32m    130\u001b[0m     hdf5_format.save_model_to_hdf5(\n\u001b[0;32m--> 131\u001b[0;31m         model, filepath, overwrite, include_optimizer)\n\u001b[0m\u001b[1;32m    132\u001b[0m   \u001b[0;32melse\u001b[0m\u001b[0;34m:\u001b[0m\u001b[0;34m\u001b[0m\u001b[0m\n\u001b[1;32m    133\u001b[0m     saved_model_save.save(model, filepath, overwrite, include_optimizer,\n",
      "\u001b[0;32m/scratch/nimas/nimas-python3.6/lib/python3.6/site-packages/tensorflow/python/keras/saving/hdf5_format.py\u001b[0m in \u001b[0;36msave_model_to_hdf5\u001b[0;34m(model, filepath, overwrite, include_optimizer)\u001b[0m\n\u001b[1;32m    100\u001b[0m         \u001b[0;32mreturn\u001b[0m\u001b[0;34m\u001b[0m\u001b[0m\n\u001b[1;32m    101\u001b[0m \u001b[0;34m\u001b[0m\u001b[0m\n\u001b[0;32m--> 102\u001b[0;31m     \u001b[0mf\u001b[0m \u001b[0;34m=\u001b[0m \u001b[0mh5py\u001b[0m\u001b[0;34m.\u001b[0m\u001b[0mFile\u001b[0m\u001b[0;34m(\u001b[0m\u001b[0mfilepath\u001b[0m\u001b[0;34m,\u001b[0m \u001b[0mmode\u001b[0m\u001b[0;34m=\u001b[0m\u001b[0;34m'w'\u001b[0m\u001b[0;34m)\u001b[0m\u001b[0;34m\u001b[0m\u001b[0m\n\u001b[0m\u001b[1;32m    103\u001b[0m     \u001b[0mopened_new_file\u001b[0m \u001b[0;34m=\u001b[0m \u001b[0;32mTrue\u001b[0m\u001b[0;34m\u001b[0m\u001b[0m\n\u001b[1;32m    104\u001b[0m   \u001b[0;32melse\u001b[0m\u001b[0;34m:\u001b[0m\u001b[0;34m\u001b[0m\u001b[0m\n",
      "\u001b[0;32m/scratch/nimas/nimas-python3.6/lib/python3.6/site-packages/h5py/_hl/files.py\u001b[0m in \u001b[0;36m__init__\u001b[0;34m(self, name, mode, driver, libver, userblock_size, swmr, rdcc_nslots, rdcc_nbytes, rdcc_w0, track_order, **kwds)\u001b[0m\n\u001b[1;32m    406\u001b[0m                 fid = make_fid(name, mode, userblock_size,\n\u001b[1;32m    407\u001b[0m                                \u001b[0mfapl\u001b[0m\u001b[0;34m,\u001b[0m \u001b[0mfcpl\u001b[0m\u001b[0;34m=\u001b[0m\u001b[0mmake_fcpl\u001b[0m\u001b[0;34m(\u001b[0m\u001b[0mtrack_order\u001b[0m\u001b[0;34m=\u001b[0m\u001b[0mtrack_order\u001b[0m\u001b[0;34m)\u001b[0m\u001b[0;34m,\u001b[0m\u001b[0;34m\u001b[0m\u001b[0m\n\u001b[0;32m--> 408\u001b[0;31m                                swmr=swmr)\n\u001b[0m\u001b[1;32m    409\u001b[0m \u001b[0;34m\u001b[0m\u001b[0m\n\u001b[1;32m    410\u001b[0m             \u001b[0;32mif\u001b[0m \u001b[0misinstance\u001b[0m\u001b[0;34m(\u001b[0m\u001b[0mlibver\u001b[0m\u001b[0;34m,\u001b[0m \u001b[0mtuple\u001b[0m\u001b[0;34m)\u001b[0m\u001b[0;34m:\u001b[0m\u001b[0;34m\u001b[0m\u001b[0m\n",
      "\u001b[0;32m/scratch/nimas/nimas-python3.6/lib/python3.6/site-packages/h5py/_hl/files.py\u001b[0m in \u001b[0;36mmake_fid\u001b[0;34m(name, mode, userblock_size, fapl, fcpl, swmr)\u001b[0m\n\u001b[1;32m    177\u001b[0m         \u001b[0mfid\u001b[0m \u001b[0;34m=\u001b[0m \u001b[0mh5f\u001b[0m\u001b[0;34m.\u001b[0m\u001b[0mcreate\u001b[0m\u001b[0;34m(\u001b[0m\u001b[0mname\u001b[0m\u001b[0;34m,\u001b[0m \u001b[0mh5f\u001b[0m\u001b[0;34m.\u001b[0m\u001b[0mACC_EXCL\u001b[0m\u001b[0;34m,\u001b[0m \u001b[0mfapl\u001b[0m\u001b[0;34m=\u001b[0m\u001b[0mfapl\u001b[0m\u001b[0;34m,\u001b[0m \u001b[0mfcpl\u001b[0m\u001b[0;34m=\u001b[0m\u001b[0mfcpl\u001b[0m\u001b[0;34m)\u001b[0m\u001b[0;34m\u001b[0m\u001b[0m\n\u001b[1;32m    178\u001b[0m     \u001b[0;32melif\u001b[0m \u001b[0mmode\u001b[0m \u001b[0;34m==\u001b[0m \u001b[0;34m'w'\u001b[0m\u001b[0;34m:\u001b[0m\u001b[0;34m\u001b[0m\u001b[0m\n\u001b[0;32m--> 179\u001b[0;31m         \u001b[0mfid\u001b[0m \u001b[0;34m=\u001b[0m \u001b[0mh5f\u001b[0m\u001b[0;34m.\u001b[0m\u001b[0mcreate\u001b[0m\u001b[0;34m(\u001b[0m\u001b[0mname\u001b[0m\u001b[0;34m,\u001b[0m \u001b[0mh5f\u001b[0m\u001b[0;34m.\u001b[0m\u001b[0mACC_TRUNC\u001b[0m\u001b[0;34m,\u001b[0m \u001b[0mfapl\u001b[0m\u001b[0;34m=\u001b[0m\u001b[0mfapl\u001b[0m\u001b[0;34m,\u001b[0m \u001b[0mfcpl\u001b[0m\u001b[0;34m=\u001b[0m\u001b[0mfcpl\u001b[0m\u001b[0;34m)\u001b[0m\u001b[0;34m\u001b[0m\u001b[0m\n\u001b[0m\u001b[1;32m    180\u001b[0m     \u001b[0;32melif\u001b[0m \u001b[0mmode\u001b[0m \u001b[0;34m==\u001b[0m \u001b[0;34m'a'\u001b[0m\u001b[0;34m:\u001b[0m\u001b[0;34m\u001b[0m\u001b[0m\n\u001b[1;32m    181\u001b[0m         \u001b[0;31m# Open in append mode (read/write).\u001b[0m\u001b[0;34m\u001b[0m\u001b[0;34m\u001b[0m\u001b[0m\n",
      "\u001b[0;32mh5py/_objects.pyx\u001b[0m in \u001b[0;36mh5py._objects.with_phil.wrapper\u001b[0;34m()\u001b[0m\n",
      "\u001b[0;32mh5py/_objects.pyx\u001b[0m in \u001b[0;36mh5py._objects.with_phil.wrapper\u001b[0;34m()\u001b[0m\n",
      "\u001b[0;32mh5py/h5f.pyx\u001b[0m in \u001b[0;36mh5py.h5f.create\u001b[0;34m()\u001b[0m\n",
      "\u001b[0;31mOSError\u001b[0m: Unable to create file (unable to open file: name = 'agents/policy_network__419593c4-ddab-4681-b233-f28da56e5c04__001.hdf5', errno = 2, error message = 'No such file or directory', flags = 13, o_flags = 242)"
     ]
    }
   ],
   "source": [
    "agent = DQNAgent(env)\n",
    "\n",
    "agent.train(n_steps=200, n_episodes=2, save_path=\"agents/\")"
   ]
  },
  {
   "cell_type": "code",
   "execution_count": null,
   "metadata": {},
   "outputs": [],
   "source": []
  }
 ],
 "metadata": {
  "kernelspec": {
   "display_name": "Python 3",
   "language": "python",
   "name": "python3"
  },
  "language_info": {
   "codemirror_mode": {
    "name": "ipython",
    "version": 3
   },
   "file_extension": ".py",
   "mimetype": "text/x-python",
   "name": "python",
   "nbconvert_exporter": "python",
   "pygments_lexer": "ipython3",
   "version": "3.6.3"
  },
  "toc": {
   "base_numbering": 1,
   "nav_menu": {},
   "number_sections": true,
   "sideBar": true,
   "skip_h1_title": false,
   "title_cell": "Table of Contents",
   "title_sidebar": "Contents",
   "toc_cell": false,
   "toc_position": {
    "height": "calc(100% - 180px)",
    "left": "10px",
    "top": "150px",
    "width": "248.188px"
   },
   "toc_section_display": true,
   "toc_window_display": true
  },
  "varInspector": {
   "cols": {
    "lenName": 16,
    "lenType": 16,
    "lenVar": 40
   },
   "kernels_config": {
    "python": {
     "delete_cmd_postfix": "",
     "delete_cmd_prefix": "del ",
     "library": "var_list.py",
     "varRefreshCmd": "print(var_dic_list())"
    },
    "r": {
     "delete_cmd_postfix": ") ",
     "delete_cmd_prefix": "rm(",
     "library": "var_list.r",
     "varRefreshCmd": "cat(var_dic_list()) "
    }
   },
   "types_to_exclude": [
    "module",
    "function",
    "builtin_function_or_method",
    "instance",
    "_Feature"
   ],
   "window_display": false
  }
 },
 "nbformat": 4,
 "nbformat_minor": 4
}
