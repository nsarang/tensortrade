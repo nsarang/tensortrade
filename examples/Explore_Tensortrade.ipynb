{
 "cells": [
  {
   "cell_type": "markdown",
   "metadata": {},
   "source": [
    "## Install TensorTrade"
   ]
  },
  {
   "cell_type": "code",
   "execution_count": 1,
   "metadata": {
    "ExecuteTime": {
     "end_time": "2020-09-16T23:22:12.606630Z",
     "start_time": "2020-09-16T23:22:12.602681Z"
    }
   },
   "outputs": [],
   "source": [
    "# !python3 -m pip install git+https://github.com/nsarang/tensortrade.git"
   ]
  },
  {
   "cell_type": "markdown",
   "metadata": {},
   "source": [
    "## Setup"
   ]
  },
  {
   "cell_type": "code",
   "execution_count": 2,
   "metadata": {
    "ExecuteTime": {
     "end_time": "2020-09-16T23:22:13.275250Z",
     "start_time": "2020-09-16T23:22:12.615426Z"
    }
   },
   "outputs": [],
   "source": [
    "# Put these at the top of every notebook, to get automatic reloading and inline plotting\n",
    "%reload_ext autoreload\n",
    "%autoreload 2\n",
    "%matplotlib inline"
   ]
  },
  {
   "cell_type": "code",
   "execution_count": 3,
   "metadata": {
    "ExecuteTime": {
     "end_time": "2020-09-16T23:22:13.594570Z",
     "start_time": "2020-09-16T23:22:13.277463Z"
    }
   },
   "outputs": [],
   "source": [
    "import asyncio\n",
    "import ccxt\n",
    "# import ccxt.async_support as ccxt\n",
    "\n",
    "apiKey = \"jxlzo1mxQ1PDckz4aYgH2WDgFxpJjBu47r3OB4vyLyZkEeyJ4xjOM6m32mvsIgmu\"\n",
    "secret = \"EffQgaLRPl52q0YEpVKcIHDeqyrFBQWm2K1Er99egbQ1c75X7fDREg4UtzhSaCJM\"\n",
    "\n",
    "exchange = ccxt.binance({\n",
    "        \"apiKey\": apiKey,\n",
    "        \"secret\": secret,\n",
    "        \"enableRateLimit\": True,\n",
    "        # 'options': {\n",
    "        #     'defaultType': 'spot', // spot, future, margin\n",
    "        # },\n",
    "    }\n",
    ")"
   ]
  },
  {
   "cell_type": "code",
   "execution_count": 4,
   "metadata": {
    "ExecuteTime": {
     "end_time": "2020-09-16T23:22:14.174453Z",
     "start_time": "2020-09-16T23:22:13.597126Z"
    }
   },
   "outputs": [],
   "source": [
    "import re\n",
    "import sys\n",
    "import time\n",
    "import pandas as pd\n",
    "import numpy as np\n",
    "from datetime import datetime, timedelta, timezone\n",
    "from tenacity import retry, retry_if_exception_type, stop_after_attempt\n",
    "import pytz\n",
    "\n",
    "\n",
    "@retry(retry=retry_if_exception_type(ccxt.NetworkError), stop=stop_after_attempt(3))\n",
    "def get_historical_data(\n",
    "    symbol, exchange, timeframe, start_date=None, limit=500, max_per_page=500\n",
    "):\n",
    "    \"\"\"Get historical OHLCV for a symbol pair\n",
    "\n",
    "    Decorators:\n",
    "        retry\n",
    "\n",
    "    Args:\n",
    "        symbol (str): Contains the symbol pair to operate on i.e. BURST/BTC\n",
    "        exchange (str): Contains the exchange to fetch the historical data from.\n",
    "        timeframe (str): A string specifying the ccxt time unit i.e. 5m or 1d.\n",
    "        start_date (int, optional): Timestamp in milliseconds.\n",
    "        max_periods (int, optional): Defaults to 100. Maximum number of time periods\n",
    "          back to fetch data for.\n",
    "\n",
    "    Returns:\n",
    "        list: Contains a list of lists which contain timestamp, open, high, low, close, volume.\n",
    "    \"\"\"\n",
    "\n",
    "    try:\n",
    "        if timeframe not in exchange.timeframes:\n",
    "            raise ValueError(\n",
    "                \"{} does not support {} timeframe for OHLCV data. Possible values are: {}\".format(\n",
    "                    exchange, timeframe, list(exchange.timeframes)\n",
    "                )\n",
    "            )\n",
    "    except AttributeError:\n",
    "        self.logger.error(\n",
    "            \"%s interface does not support timeframe queries! We are unable to fetch data!\",\n",
    "            exchange,\n",
    "        )\n",
    "        raise AttributeError(sys.exc_info())\n",
    "\n",
    "    timeframe_regex = re.compile(\"([0-9]+)([a-zA-Z])\")\n",
    "    timeframe_matches = timeframe_regex.match(timeframe)\n",
    "    time_quantity = timeframe_matches.group(1)\n",
    "    time_period = timeframe_matches.group(2)\n",
    "    timedelta_values = {\n",
    "        \"m\": \"minutes\",\n",
    "        \"h\": \"hours\",\n",
    "        \"d\": \"days\",\n",
    "        \"w\": \"weeks\",\n",
    "        \"M\": \"months\",\n",
    "        \"y\": \"years\",\n",
    "    }\n",
    "\n",
    "    timedelta_args = {timedelta_values[time_period]: int(time_quantity)}\n",
    "    single_frame = timedelta(**timedelta_args)\n",
    "\n",
    "    if not start_date:\n",
    "        start_datetime = datetime.now() - (limit * single_frame)\n",
    "        start_date = int(start_datetime.timestamp() * 1000)\n",
    "        total = limit\n",
    "\n",
    "    else:\n",
    "        total = (datetime.now() - start_date * 1000) // single_frame.total_seconds()\n",
    "        if limit:\n",
    "            total = min(limit, total)\n",
    "\n",
    "    historical_data = []\n",
    "    for cursor in range(0, total, max_per_page):\n",
    "        curr_start_date = start_date + int(cursor * single_frame.total_seconds() * 1000)\n",
    "        limit = min(total - cursor, max_per_page)\n",
    "        historical_data += exchange.fetch_ohlcv(\n",
    "            symbol, timeframe=timeframe, since=curr_start_date, limit=limit\n",
    "        )\n",
    "\n",
    "    if not historical_data:\n",
    "        raise ValueError(\"No historical data provided returned by exchange.\")\n",
    "\n",
    "    if len(historical_data) != total:\n",
    "        raise ValueError(\"Gaps detected in historical data.\")\n",
    "\n",
    "    # Sort by timestamp in ascending order\n",
    "    historical_data.sort(key=lambda d: d[0])\n",
    "\n",
    "    return historical_data\n",
    "\n",
    "\n",
    "def timestamp_to_datetime(\n",
    "    timestamp, timezone=pytz.timezone(\"America/Montreal\"), to_str=False\n",
    "):\n",
    "    time = datetime.fromtimestamp(timestamp, timezone)\n",
    "    if to_str:\n",
    "        time = time.strftime(\"%Y-%m-%dT%H:%M:%S.%f\")[:-3] + \"Z\"\n",
    "    return time\n",
    "\n",
    "\n",
    "def convert_to_dataframe(historical_data):\n",
    "    \"\"\"Converts historical data matrix to a pandas dataframe.\n",
    "\n",
    "    Args:\n",
    "        historical_data (list): A matrix of historical OHCLV data.\n",
    "\n",
    "    Returns:\n",
    "        pandas.DataFrame: Contains the historical data in a pandas dataframe.\n",
    "    \"\"\"\n",
    "\n",
    "    dataframe = pd.DataFrame(historical_data)\n",
    "    dataframe.transpose()\n",
    "\n",
    "    dataframe.columns = [\"timestamp\", \"open\", \"high\", \"low\", \"close\", \"volume\"]\n",
    "    dataframe[\"datetime\"] = dataframe.timestamp.apply(\n",
    "        lambda x: timestamp_to_datetime(x / 1000)\n",
    "    )\n",
    "\n",
    "    dataframe.set_index(\"datetime\", inplace=True, drop=True)\n",
    "    dataframe.drop(\"timestamp\", axis=1, inplace=True)\n",
    "\n",
    "    return dataframe"
   ]
  },
  {
   "cell_type": "code",
   "execution_count": 5,
   "metadata": {
    "ExecuteTime": {
     "end_time": "2020-09-16T23:22:14.263793Z",
     "start_time": "2020-09-16T23:22:14.176247Z"
    }
   },
   "outputs": [],
   "source": [
    "def shift(values: np.ndarray, periods: int, axis, fill_value) -> np.ndarray:\n",
    "    new_values = values\n",
    "\n",
    "    if periods == 0 or values.size == 0:\n",
    "        return new_values.copy()\n",
    "\n",
    "    # make sure array sent to np.roll is c_contiguous\n",
    "    f_ordered = values.flags.f_contiguous\n",
    "    if f_ordered:\n",
    "        new_values = new_values.T\n",
    "        axis = new_values.ndim - axis - 1\n",
    "\n",
    "    if np.prod(new_values.shape):\n",
    "        new_values = np.roll(new_values, periods, axis=axis)\n",
    "\n",
    "    axis_indexer = [ slice(None)] * values.ndim\n",
    "    if periods > 0:\n",
    "        axis_indexer[axis] = slice(None, periods)\n",
    "    else:\n",
    "        axis_indexer[axis] = slice(periods, None)\n",
    "    new_values[tuple(axis_indexer)] = fill_value\n",
    "\n",
    "    # restore original order\n",
    "    if f_ordered:\n",
    "        new_values = new_values.T\n",
    "\n",
    "    return new_values\n",
    "\n",
    "\n",
    "def crossing(a, b):\n",
    "    a_plus = shift(a, 1, axis=0, fill_value=0)\n",
    "    b_plus = shift(b, 1, axis=0, fill_value=0)\n",
    "    cross = np.where(\n",
    "        (a <= b) & (a_plus >= b_plus),\n",
    "        1,\n",
    "        np.where(((a >= b) & (a_plus <= b_plus)), -1, 0),\n",
    "    )\n",
    "    return cross\n",
    "\n",
    "\n",
    "def SWING_CALLS(df):\n",
    "    ema = ta.EMA(df.close, 5)\n",
    "    sma = ta.SMA(df.close, 50)\n",
    "    rsi = ta.RSI(df.close, 14)\n",
    "\n",
    "    color = np.where(\n",
    "        (rsi >= 85) | (rsi <= 15),\n",
    "        \"YELLOW\",\n",
    "        np.where(df.low > sma, \"LIME\", np.where(df.high < sma, \"RED\", \"YELLOW\")),\n",
    "    )\n",
    "\n",
    "    buyexit = rsi > 80\n",
    "    sellexit = rsi < 30\n",
    "\n",
    "    sellcall = (crossing(sma, ema) > 0) & (df.open > df.close)\n",
    "    buycall = (crossing(sma, ema) < 0) & (df.high > sma)\n",
    "\n",
    "    return buyexit, sellexit, sellcall, buycall\n",
    "\n",
    "\n",
    "def smooth_range(series, period, mult):\n",
    "    wper = period * 2 - 1\n",
    "    diff = (series - series.shift(1, fill_value=0)).abs()\n",
    "    average = ta.EMA(diff, period)\n",
    "    smoothed = ta.EMA(average, wper) * mult\n",
    "    smoothed = pd.Series(smoothed, index=series.index)\n",
    "    return smoothed\n",
    "\n",
    "\n",
    "def filter_range(series, smoothrng):\n",
    "    result = series.shift(1, fill_value=0)\n",
    "    for time, (close, smth) in enumerate(zip(series, smoothrng)):\n",
    "        prev = result.iloc[time]\n",
    "        if time == 0 or ((close >= prev - smth) and (close <=  prev +smth)):\n",
    "            continue\n",
    "            \n",
    "        if close > prev + smth:\n",
    "            prev = close - smth\n",
    "        else:\n",
    "            prev = close + smth\n",
    "        result.iloc[time] = prev\n",
    "    return result\n",
    "\n",
    "\n",
    "def Range_Filter_Buy_Sell(df, period=100, range_multiplier=3):\n",
    "    # Smooth Average Range\n",
    "    smoothed = smooth_range(df.close, period, range_multiplier)\n",
    "\n",
    "    # Range Filter\n",
    "    filtered = filter_range(df.close, smoothed)\n",
    "\n",
    "    buycall = (df.close > filtered) & (df.close > df.close.shift(1)) & (filtered > filtered.shift(1))\n",
    "    sellcall = (df.close < filtered) & (df.close < df.close.shift(1)) & (filtered < filtered.shift(1))\n",
    "    return buycall, sellcall\n",
    "\n",
    "\n",
    "def calculate_profit(ohlvc, buycall, sellcall, start_from=100, trade_fee=0.1):\n",
    "    money = 1\n",
    "    asset = 0\n",
    "    last_buy = ohlvc.iloc[start_from][\"close\"]\n",
    "    trade_cost = 0\n",
    "    trade_fee /= 100\n",
    "    for time, (buy, sell) in enumerate(zip(buycall, sellcall)):\n",
    "        if time < start_from:\n",
    "            continue\n",
    "\n",
    "        if buy and money and (time != len(ohlvc) - 1):\n",
    "            trade_cost += money * trade_fee\n",
    "            money *= (1 - trade_fee)\n",
    "            asset = money / ohlvc.iloc[time][\"close\"]\n",
    "            money = 0\n",
    "            last_buy = ohlvc.iloc[time][\"close\"]\n",
    "        \n",
    "        elif (sell or (time == len(ohlvc) - 1)) and asset:\n",
    "            money = asset * ohlvc.iloc[time][\"close\"]\n",
    "            trade_cost += money * trade_fee\n",
    "            money *= (1 - trade_fee)\n",
    "            asset = 0\n",
    "    \n",
    "    return money, trade_cost"
   ]
  },
  {
   "cell_type": "markdown",
   "metadata": {},
   "source": [
    "## Data"
   ]
  },
  {
   "cell_type": "markdown",
   "metadata": {},
   "source": [
    "### Load"
   ]
  },
  {
   "cell_type": "code",
   "execution_count": 20,
   "metadata": {
    "ExecuteTime": {
     "end_time": "2020-09-17T00:36:15.775158Z",
     "start_time": "2020-09-17T00:36:15.570417Z"
    }
   },
   "outputs": [],
   "source": [
    "import pandas as pd\n",
    "import tensortrade as tt\n",
    "import tensortrade.env.default as default\n",
    "\n",
    "from tensortrade.data.cdd import CryptoDataDownload\n",
    "from tensortrade.feed.core import Stream, DataFeed\n",
    "from tensortrade.oms.exchanges import Exchange\n",
    "from tensortrade.oms.services.execution.simulated import execute_order\n",
    "from tensortrade.oms.instruments import USD, BTC, ETH\n",
    "from tensortrade.oms.wallets import Wallet, Portfolio\n",
    "from tensortrade.agents import DQNAgent\n",
    "\n",
    "\n",
    "%matplotlib inline"
   ]
  },
  {
   "cell_type": "code",
   "execution_count": null,
   "metadata": {},
   "outputs": [],
   "source": [
    "get_historical_data(\"BTC/USDT\", exchange, timeframe=\"1m\", since=\"\")"
   ]
  },
  {
   "cell_type": "code",
   "execution_count": 7,
   "metadata": {
    "ExecuteTime": {
     "end_time": "2020-09-16T23:22:26.864655Z",
     "start_time": "2020-09-16T23:22:26.346398Z"
    },
    "scrolled": true
   },
   "outputs": [
    {
     "data": {
      "text/html": [
       "<div>\n",
       "<style scoped>\n",
       "    .dataframe tbody tr th:only-of-type {\n",
       "        vertical-align: middle;\n",
       "    }\n",
       "\n",
       "    .dataframe tbody tr th {\n",
       "        vertical-align: top;\n",
       "    }\n",
       "\n",
       "    .dataframe thead th {\n",
       "        text-align: right;\n",
       "    }\n",
       "</style>\n",
       "<table border=\"1\" class=\"dataframe\">\n",
       "  <thead>\n",
       "    <tr style=\"text-align: right;\">\n",
       "      <th></th>\n",
       "      <th>date</th>\n",
       "      <th>symbol</th>\n",
       "      <th>open</th>\n",
       "      <th>high</th>\n",
       "      <th>low</th>\n",
       "      <th>close</th>\n",
       "      <th>volume_btc</th>\n",
       "      <th>volume</th>\n",
       "    </tr>\n",
       "  </thead>\n",
       "  <tbody>\n",
       "    <tr>\n",
       "      <th>20110</th>\n",
       "      <td>2017-07-01 11:00:00</td>\n",
       "      <td>BTCUSD</td>\n",
       "      <td>2505.56</td>\n",
       "      <td>2513.38</td>\n",
       "      <td>2495.12</td>\n",
       "      <td>2509.17</td>\n",
       "      <td>114.60</td>\n",
       "      <td>287000.32</td>\n",
       "    </tr>\n",
       "    <tr>\n",
       "      <th>20109</th>\n",
       "      <td>2017-07-01 12:00:00</td>\n",
       "      <td>BTCUSD</td>\n",
       "      <td>2509.17</td>\n",
       "      <td>2512.87</td>\n",
       "      <td>2484.99</td>\n",
       "      <td>2488.43</td>\n",
       "      <td>157.36</td>\n",
       "      <td>393142.50</td>\n",
       "    </tr>\n",
       "    <tr>\n",
       "      <th>20108</th>\n",
       "      <td>2017-07-01 13:00:00</td>\n",
       "      <td>BTCUSD</td>\n",
       "      <td>2488.43</td>\n",
       "      <td>2488.43</td>\n",
       "      <td>2454.40</td>\n",
       "      <td>2454.43</td>\n",
       "      <td>280.28</td>\n",
       "      <td>693254.01</td>\n",
       "    </tr>\n",
       "    <tr>\n",
       "      <th>20107</th>\n",
       "      <td>2017-07-01 14:00:00</td>\n",
       "      <td>BTCUSD</td>\n",
       "      <td>2454.43</td>\n",
       "      <td>2473.93</td>\n",
       "      <td>2450.83</td>\n",
       "      <td>2459.35</td>\n",
       "      <td>289.42</td>\n",
       "      <td>712864.80</td>\n",
       "    </tr>\n",
       "    <tr>\n",
       "      <th>20106</th>\n",
       "      <td>2017-07-01 15:00:00</td>\n",
       "      <td>BTCUSD</td>\n",
       "      <td>2459.35</td>\n",
       "      <td>2475.00</td>\n",
       "      <td>2450.00</td>\n",
       "      <td>2467.83</td>\n",
       "      <td>276.82</td>\n",
       "      <td>682105.41</td>\n",
       "    </tr>\n",
       "  </tbody>\n",
       "</table>\n",
       "</div>"
      ],
      "text/plain": [
       "                     date  symbol     open     high      low    close  \\\n",
       "20110 2017-07-01 11:00:00  BTCUSD  2505.56  2513.38  2495.12  2509.17   \n",
       "20109 2017-07-01 12:00:00  BTCUSD  2509.17  2512.87  2484.99  2488.43   \n",
       "20108 2017-07-01 13:00:00  BTCUSD  2488.43  2488.43  2454.40  2454.43   \n",
       "20107 2017-07-01 14:00:00  BTCUSD  2454.43  2473.93  2450.83  2459.35   \n",
       "20106 2017-07-01 15:00:00  BTCUSD  2459.35  2475.00  2450.00  2467.83   \n",
       "\n",
       "       volume_btc     volume  \n",
       "20110      114.60  287000.32  \n",
       "20109      157.36  393142.50  \n",
       "20108      280.28  693254.01  \n",
       "20107      289.42  712864.80  \n",
       "20106      276.82  682105.41  "
      ]
     },
     "execution_count": 7,
     "metadata": {},
     "output_type": "execute_result"
    }
   ],
   "source": [
    "# cdd = CryptoDataDownload()\n",
    "# data = cdd.fetch(\"Coinbase\", \"USD\", \"BTC\", \"1h\")\n",
    "\n",
    "\n",
    "data = pd.read_csv(\"data/Coinbase_BTCUSD_1h.csv\", skiprows=1)\n",
    "data[\"date\"] = pd.to_datetime(data[\"date\"], format=\"%Y-%m-%d %I-%p\")\n",
    "data = data.sort_values(\"date\")\n",
    "data.head()"
   ]
  },
  {
   "cell_type": "markdown",
   "metadata": {},
   "source": [
    "### Create features with the feed module"
   ]
  },
  {
   "cell_type": "code",
   "execution_count": 8,
   "metadata": {
    "ExecuteTime": {
     "end_time": "2020-09-16T23:22:27.028401Z",
     "start_time": "2020-09-16T23:22:26.866735Z"
    }
   },
   "outputs": [],
   "source": [
    "def rsi(price: Stream[float], period: float) -> Stream[float]:\n",
    "    r = price.diff()\n",
    "    upside = r.clamp_min(0).abs()\n",
    "    downside = r.clamp_max(0).abs()\n",
    "    rs = upside.ewm(alpha=1 / period).mean() / downside.ewm(alpha=1 / period).mean()\n",
    "    return 100*(1 - (1 + rs) ** -1)\n",
    "\n",
    "\n",
    "def macd(price: Stream[float], fast: float, slow: float, signal: float) -> Stream[float]:\n",
    "    fm = price.ewm(span=fast, adjust=False).mean()\n",
    "    sm = price.ewm(span=slow, adjust=False).mean()\n",
    "    md = fm - sm\n",
    "    signal = md - md.ewm(span=signal, adjust=False).mean()\n",
    "    return signal"
   ]
  },
  {
   "cell_type": "code",
   "execution_count": 9,
   "metadata": {
    "ExecuteTime": {
     "end_time": "2020-09-16T23:22:27.224253Z",
     "start_time": "2020-09-16T23:22:27.032835Z"
    }
   },
   "outputs": [],
   "source": [
    "features = [\n",
    "    Stream.source(list(data[c]), dtype=\"float\").rename(data[c].name)\n",
    "    for c in data.columns[1:]\n",
    "]"
   ]
  },
  {
   "cell_type": "code",
   "execution_count": 10,
   "metadata": {
    "ExecuteTime": {
     "end_time": "2020-09-16T23:22:27.376489Z",
     "start_time": "2020-09-16T23:22:27.226564Z"
    }
   },
   "outputs": [],
   "source": [
    "close = Stream.select(features, lambda s: s.name == \"close\")"
   ]
  },
  {
   "cell_type": "code",
   "execution_count": 11,
   "metadata": {
    "ExecuteTime": {
     "end_time": "2020-09-16T23:22:27.547404Z",
     "start_time": "2020-09-16T23:22:27.379784Z"
    }
   },
   "outputs": [
    {
     "data": {
      "text/plain": [
       "<abc.Stream at 0x2ae4a1261588>"
      ]
     },
     "execution_count": 11,
     "metadata": {},
     "output_type": "execute_result"
    }
   ],
   "source": [
    "class Listener:\n",
    "    def on_next(self, value):\n",
    "        print(value)\n",
    "\n",
    "close.attach(Listener())"
   ]
  },
  {
   "cell_type": "code",
   "execution_count": 12,
   "metadata": {
    "ExecuteTime": {
     "end_time": "2020-09-16T23:22:27.696948Z",
     "start_time": "2020-09-16T23:22:27.549702Z"
    }
   },
   "outputs": [],
   "source": [
    "from tensortrade.feed.core import Stream\n",
    "ss = Stream.source([1, 2, 3, 4, 5], dtype=\"float\")"
   ]
  },
  {
   "cell_type": "code",
   "execution_count": 13,
   "metadata": {
    "ExecuteTime": {
     "end_time": "2020-09-16T23:22:27.861022Z",
     "start_time": "2020-09-16T23:22:27.701504Z"
    }
   },
   "outputs": [],
   "source": [
    "ff = DataFeed([ss.ewm(span=1).mean()])"
   ]
  },
  {
   "cell_type": "code",
   "execution_count": 14,
   "metadata": {
    "ExecuteTime": {
     "end_time": "2020-09-16T23:22:28.005400Z",
     "start_time": "2020-09-16T23:22:27.862879Z"
    }
   },
   "outputs": [
    {
     "data": {
      "text/plain": [
       "{'stream:/8': 1}"
      ]
     },
     "execution_count": 14,
     "metadata": {},
     "output_type": "execute_result"
    }
   ],
   "source": [
    "ff.next()"
   ]
  },
  {
   "cell_type": "code",
   "execution_count": null,
   "metadata": {},
   "outputs": [],
   "source": []
  },
  {
   "cell_type": "code",
   "execution_count": 15,
   "metadata": {
    "ExecuteTime": {
     "end_time": "2020-09-16T23:22:28.181841Z",
     "start_time": "2020-09-16T23:22:28.008278Z"
    }
   },
   "outputs": [],
   "source": [
    "features = [\n",
    "    close.ewm(span=14).mean().rename(\"ema\"),\n",
    "    close.ewm(alpha=1).mean().rename(\"sma\"),\n",
    "    close.log().diff().rename(\"lr\"),\n",
    "    rsi(close, period=20).rename(\"rsi\"),\n",
    "    macd(close, fast=10, slow=50, signal=5).rename(\"macd\")\n",
    "]\n",
    "\n",
    "feed = DataFeed(features)\n",
    "feed.compile()"
   ]
  },
  {
   "cell_type": "code",
   "execution_count": 16,
   "metadata": {
    "ExecuteTime": {
     "end_time": "2020-09-16T23:22:28.333849Z",
     "start_time": "2020-09-16T23:22:28.183872Z"
    }
   },
   "outputs": [
    {
     "name": "stdout",
     "output_type": "stream",
     "text": [
      "2509.17\n",
      "{\n",
      "    \"ema\": 2509.17,\n",
      "    \"sma\": 2509.17,\n",
      "    \"lr\": NaN,\n",
      "    \"rsi\": NaN,\n",
      "    \"macd\": 0.0\n",
      "}\n",
      "2488.43\n",
      "{\n",
      "    \"ema\": 2498.0592857142856,\n",
      "    \"sma\": 2488.43,\n",
      "    \"lr\": -0.008300031641449657,\n",
      "    \"rsi\": 0.0,\n",
      "    \"macd\": -1.9717171717171975\n",
      "}\n",
      "2454.43\n",
      "{\n",
      "    \"ema\": 2481.3927504244484,\n",
      "    \"sma\": 2454.43,\n",
      "    \"lr\": -0.01375743446296962,\n",
      "    \"rsi\": 0.0,\n",
      "    \"macd\": -6.082702245269603\n",
      "}\n",
      "2459.35\n",
      "{\n",
      "    \"ema\": 2474.649251269036,\n",
      "    \"sma\": 2459.35,\n",
      "    \"lr\": 0.0020025323250756344,\n",
      "    \"rsi\": 8.795475693113076,\n",
      "    \"macd\": -7.287625162566419\n",
      "}\n",
      "2467.83\n",
      "{\n",
      "    \"ema\": 2472.8701190470056,\n",
      "    \"sma\": 2467.83,\n",
      "    \"lr\": 0.00344213459739251,\n",
      "    \"rsi\": 21.34663357024277,\n",
      "    \"macd\": -6.522181201739986\n",
      "}\n"
     ]
    }
   ],
   "source": [
    "import json\n",
    "\n",
    "for i in range(5):\n",
    "    obsv = feed.next()\n",
    "#     print(data)\n",
    "    print(json.dumps(obsv, indent=4))"
   ]
  },
  {
   "cell_type": "markdown",
   "metadata": {},
   "source": [
    "## Setup Trading Environment"
   ]
  },
  {
   "cell_type": "code",
   "execution_count": 17,
   "metadata": {
    "ExecuteTime": {
     "end_time": "2020-09-16T23:22:28.601267Z",
     "start_time": "2020-09-16T23:22:28.337021Z"
    }
   },
   "outputs": [
    {
     "name": "stdout",
     "output_type": "stream",
     "text": [
      "2509.17\n"
     ]
    },
    {
     "name": "stderr",
     "output_type": "stream",
     "text": [
      "/project/6007383/nimas/env-python3.6/lib/python3.6/site-packages/gym/logger.py:30: UserWarning:\n",
      "\n",
      "\u001b[33mWARN: Box bound precision lowered by casting to float32\u001b[0m\n",
      "\n"
     ]
    }
   ],
   "source": [
    "coinbase = Exchange(\"coinbase\", service=execute_order)(\n",
    "    Stream.source(list(data[\"close\"]), dtype=\"float\").rename(\"USD-BTC\")\n",
    ")\n",
    "\n",
    "portfolio = Portfolio(USD, [\n",
    "    Wallet(coinbase, 10000 * USD),\n",
    "    Wallet(coinbase, 10 * BTC)\n",
    "])\n",
    "\n",
    "\n",
    "renderer_feed = DataFeed([\n",
    "    Stream.source(list(data[\"date\"])).rename(\"date\"),\n",
    "    Stream.source(list(data[\"open\"]), dtype=\"float\").rename(\"open\"),\n",
    "    Stream.source(list(data[\"high\"]), dtype=\"float\").rename(\"high\"),\n",
    "    Stream.source(list(data[\"low\"]), dtype=\"float\").rename(\"low\"),\n",
    "    Stream.source(list(data[\"close\"]), dtype=\"float\").rename(\"close\"), \n",
    "    Stream.source(list(data[\"volume\"]), dtype=\"float\").rename(\"volume\") \n",
    "])\n",
    "\n",
    "\n",
    "env = default.create(\n",
    "    portfolio=portfolio,\n",
    "    action_scheme=\"managed-risk\",\n",
    "    reward_scheme=\"risk-adjusted\",\n",
    "    feed=feed,\n",
    "    renderer_feed=renderer_feed,\n",
    "#     renderer=default.renderers.PlotlyTradingChart(),\n",
    "    window_size=20\n",
    ")"
   ]
  },
  {
   "cell_type": "code",
   "execution_count": 18,
   "metadata": {
    "ExecuteTime": {
     "end_time": "2020-09-16T23:22:28.757684Z",
     "start_time": "2020-09-16T23:22:28.603304Z"
    }
   },
   "outputs": [
    {
     "name": "stdout",
     "output_type": "stream",
     "text": [
      "2509.17\n"
     ]
    },
    {
     "data": {
      "text/plain": [
       "{'internal': {'coinbase:/USD-BTC': 2509.17,\n",
       "  'coinbase:/USD:/free': 10000.0,\n",
       "  'coinbase:/USD:/locked': 0.0,\n",
       "  'coinbase:/USD:/total': 10000.0,\n",
       "  'coinbase:/BTC:/free': 10.0,\n",
       "  'coinbase:/BTC:/locked': 0.0,\n",
       "  'coinbase:/BTC:/total': 10.0,\n",
       "  'coinbase:/BTC:/worth': 25091.7,\n",
       "  'net_worth': 35091.7},\n",
       " 'external': {'ema': 2509.17,\n",
       "  'sma': 2509.17,\n",
       "  'lr': nan,\n",
       "  'rsi': nan,\n",
       "  'macd': 0.0},\n",
       " 'renderer': {'date': Timestamp('2017-07-01 11:00:00'),\n",
       "  'open': 2505.56,\n",
       "  'high': 2513.38,\n",
       "  'low': 2495.12,\n",
       "  'close': 2509.17,\n",
       "  'volume': 287000.32}}"
      ]
     },
     "execution_count": 18,
     "metadata": {},
     "output_type": "execute_result"
    }
   ],
   "source": [
    "env.observer.feed.next()"
   ]
  },
  {
   "cell_type": "markdown",
   "metadata": {},
   "source": [
    "## Setup and Train DQN Agent"
   ]
  },
  {
   "cell_type": "code",
   "execution_count": 19,
   "metadata": {
    "ExecuteTime": {
     "end_time": "2020-09-16T23:22:54.347425Z",
     "start_time": "2020-09-16T23:22:28.760422Z"
    }
   },
   "outputs": [
    {
     "name": "stdout",
     "output_type": "stream",
     "text": [
      "====      AGENT ID: cea92734-fe69-4e01-8890-973c63cfff50      ====\n",
      "2509.17\n",
      "2488.43\n",
      "2454.43\n",
      "2459.35\n",
      "2467.83\n",
      "2460.01\n",
      "2445.99\n",
      "2425.94\n",
      "2435.99\n",
      "2408.25\n",
      "2416.62\n",
      "2424.99\n",
      "2423.63\n",
      "2391.87\n",
      "2409.9\n",
      "2407.81\n",
      "2404.99\n",
      "2412.0\n",
      "2439.97\n",
      "2421.55\n",
      "2431.95\n",
      "2461.99\n",
      "2457.54\n",
      "2436.07\n",
      "2449.6\n",
      "2440.87\n",
      "2435.62\n",
      "2442.99\n",
      "2463.86\n",
      "2476.41\n",
      "2496.37\n",
      "2490.08\n",
      "2492.61\n",
      "2504.09\n",
      "2525.0\n",
      "2517.01\n",
      "2516.66\n",
      "2500.97\n",
      "2500.0\n",
      "2491.4\n",
      "2490.83\n",
      "2498.92\n",
      "2497.61\n",
      "2499.98\n",
      "2481.72\n",
      "2483.72\n",
      "2489.09\n",
      "2482.09\n",
      "2502.3\n",
      "2519.38\n",
      "2560.0\n",
      "2550.0\n",
      "2569.98\n",
      "2563.0\n",
      "2552.37\n",
      "2528.8\n",
      "2547.43\n",
      "2556.02\n",
      "2559.98\n",
      "2554.4\n",
      "2542.41\n",
      "2560.93\n",
      "2566.27\n",
      "2607.1\n",
      "2616.28\n",
      "2620.0\n",
      "2621.0\n",
      "2625.9\n",
      "2630.93\n",
      "2594.49\n",
      "2605.1\n",
      "2594.83\n",
      "2614.93\n",
      "2616.22\n",
      "2617.88\n",
      "2612.72\n",
      "2587.0\n",
      "2570.25\n",
      "2594.0\n",
      "2586.71\n",
      "2566.51\n",
      "2579.09\n",
      "2582.36\n",
      "2595.98\n",
      "2602.0\n",
      "2578.97\n",
      "2584.27\n",
      "2580.85\n",
      "2576.12\n",
      "2572.85\n",
      "2571.76\n",
      "2563.24\n",
      "2558.37\n",
      "2570.7\n",
      "2568.4\n",
      "2570.01\n",
      "2572.06\n",
      "2555.72\n",
      "2575.72\n",
      "2567.01\n",
      "2573.91\n",
      "2578.96\n",
      "2598.0\n",
      "2603.45\n",
      "2623.79\n",
      "2608.6\n",
      "2615.15\n",
      "2611.64\n",
      "2616.96\n",
      "2615.85\n",
      "2603.01\n",
      "2610.0\n",
      "2616.99\n",
      "2607.97\n",
      "2600.0\n",
      "2605.8\n",
      "2608.09\n",
      "2612.34\n",
      "2585.05\n",
      "2598.16\n",
      "2602.98\n",
      "2598.54\n",
      "2591.6\n",
      "2585.23\n",
      "2583.95\n",
      "2594.47\n",
      "2594.05\n",
      "2590.96\n",
      "2600.0\n",
      "2597.51\n",
      "2598.44\n",
      "2604.46\n",
      "2604.84\n",
      "2606.0\n",
      "2602.6\n",
      "2591.1\n",
      "2597.31\n",
      "2594.55\n",
      "2595.53\n",
      "2576.01\n",
      "2575.71\n",
      "2570.13\n",
      "2573.32\n",
      "2582.68\n",
      "2556.0\n",
      "2535.12\n",
      "2517.1\n",
      "2514.79\n",
      "2525.33\n",
      "2518.03\n",
      "2528.99\n",
      "2515.95\n",
      "2527.99\n",
      "2515.0\n",
      "2494.86\n",
      "2473.13\n",
      "2501.15\n",
      "2492.78\n",
      "2476.0\n",
      "2483.36\n",
      "2500.0\n",
      "2525.96\n",
      "2517.11\n",
      "2502.46\n",
      "2498.58\n",
      "2513.29\n",
      "2514.9\n",
      "2520.0\n",
      "2508.25\n",
      "2525.87\n",
      "2525.48\n",
      "2533.67\n",
      "2526.18\n",
      "2524.57\n",
      "2509.02\n",
      "2533.69\n",
      "2541.86\n",
      "2541.41\n",
      "2541.67\n",
      "2561.88\n",
      "2561.11\n",
      "2565.42\n",
      "2564.37\n",
      "2564.66\n",
      "2566.99\n",
      "2572.95\n",
      "2559.39\n",
      "2555.95\n",
      "2549.65\n",
      "2548.63\n",
      "2553.98\n",
      "2554.6\n",
      "2553.34\n",
      "2552.78\n",
      "2552.33\n",
      "2556.92\n",
      "2559.32\n",
      "2555.67\n",
      "2553.79\n",
      "2539.82\n",
      "2542.72\n",
      "2509.17\n",
      "2488.43\n",
      "2454.43\n",
      "2459.35\n",
      "2467.83\n",
      "2460.01\n",
      "2445.99\n",
      "2425.94\n",
      "2435.99\n",
      "2408.25\n",
      "2416.62\n",
      "2424.99\n",
      "2423.63\n",
      "2391.87\n",
      "2409.9\n",
      "2407.81\n",
      "2404.99\n",
      "2412.0\n",
      "2439.97\n",
      "2421.55\n",
      "2431.95\n",
      "2461.99\n",
      "2457.54\n",
      "2436.07\n",
      "2449.6\n",
      "2440.87\n",
      "2435.62\n",
      "2442.99\n",
      "2463.86\n",
      "2476.41\n",
      "2496.37\n",
      "2490.08\n",
      "2492.61\n",
      "2504.09\n",
      "2525.0\n",
      "2517.01\n",
      "2516.66\n",
      "2500.97\n",
      "2500.0\n",
      "2491.4\n",
      "2490.83\n",
      "2498.92\n",
      "2497.61\n",
      "2499.98\n",
      "2481.72\n",
      "2483.72\n",
      "2489.09\n",
      "2482.09\n",
      "2502.3\n",
      "2519.38\n",
      "2560.0\n",
      "2550.0\n",
      "2569.98\n",
      "2563.0\n",
      "2552.37\n",
      "2528.8\n",
      "2547.43\n",
      "2556.02\n",
      "2559.98\n",
      "2554.4\n",
      "2542.41\n",
      "2560.93\n",
      "2566.27\n",
      "2607.1\n",
      "2616.28\n",
      "2620.0\n",
      "2621.0\n",
      "2625.9\n",
      "2630.93\n",
      "2594.49\n",
      "2605.1\n",
      "2594.83\n",
      "2614.93\n",
      "2616.22\n",
      "2617.88\n",
      "2612.72\n",
      "2587.0\n",
      "2570.25\n",
      "2594.0\n",
      "2586.71\n",
      "2566.51\n",
      "2579.09\n",
      "2582.36\n",
      "2595.98\n",
      "2602.0\n",
      "2578.97\n",
      "2584.27\n",
      "2580.85\n",
      "2576.12\n",
      "2572.85\n",
      "2571.76\n",
      "2563.24\n",
      "2558.37\n",
      "2570.7\n",
      "2568.4\n",
      "2570.01\n",
      "2572.06\n",
      "2555.72\n",
      "2575.72\n",
      "2567.01\n",
      "2573.91\n",
      "2578.96\n",
      "2598.0\n",
      "2603.45\n",
      "2623.79\n",
      "2608.6\n",
      "2615.15\n",
      "2611.64\n",
      "2616.96\n",
      "2615.85\n",
      "2603.01\n",
      "2610.0\n",
      "2616.99\n",
      "2607.97\n",
      "2600.0\n",
      "2605.8\n",
      "2608.09\n",
      "2612.34\n",
      "2585.05\n",
      "2598.16\n",
      "2602.98\n",
      "2598.54\n",
      "2591.6\n",
      "2585.23\n",
      "2583.95\n",
      "2594.47\n",
      "2594.05\n",
      "2590.96\n",
      "2600.0\n",
      "2597.51\n",
      "2598.44\n",
      "2604.46\n",
      "2604.84\n",
      "2606.0\n",
      "2602.6\n",
      "2591.1\n",
      "2597.31\n",
      "2594.55\n",
      "2595.53\n",
      "2576.01\n",
      "2575.71\n",
      "2570.13\n",
      "2573.32\n",
      "2582.68\n",
      "2556.0\n",
      "2535.12\n",
      "2517.1\n",
      "2514.79\n",
      "2525.33\n",
      "2518.03\n",
      "2528.99\n",
      "2515.95\n",
      "2527.99\n",
      "2515.0\n",
      "2494.86\n",
      "2473.13\n",
      "2501.15\n",
      "2492.78\n",
      "2476.0\n",
      "2483.36\n",
      "2500.0\n",
      "2525.96\n",
      "2517.11\n",
      "2502.46\n",
      "2498.58\n",
      "2513.29\n",
      "2514.9\n",
      "2520.0\n",
      "2508.25\n",
      "2525.87\n",
      "2525.48\n",
      "2533.67\n",
      "2526.18\n",
      "2524.57\n",
      "2509.02\n",
      "2533.69\n",
      "2541.86\n",
      "2541.41\n",
      "2541.67\n",
      "2561.88\n",
      "2561.11\n",
      "2565.42\n",
      "2564.37\n",
      "2564.66\n",
      "2566.99\n",
      "2572.95\n",
      "2559.39\n",
      "2555.95\n",
      "2549.65\n",
      "2548.63\n",
      "2553.98\n",
      "2554.6\n",
      "2553.34\n",
      "2552.78\n",
      "2552.33\n",
      "2556.92\n",
      "2559.32\n",
      "2555.67\n",
      "2553.79\n",
      "2539.82\n",
      "2542.72\n"
     ]
    },
    {
     "data": {
      "text/plain": [
       "-182652.04720748393"
      ]
     },
     "execution_count": 19,
     "metadata": {},
     "output_type": "execute_result"
    }
   ],
   "source": [
    "agent = DQNAgent(env)\n",
    "\n",
    "agent.train(n_steps=200, n_episodes=2, save_path=\"agents/\")"
   ]
  },
  {
   "cell_type": "code",
   "execution_count": null,
   "metadata": {},
   "outputs": [],
   "source": []
  }
 ],
 "metadata": {
  "kernelspec": {
   "display_name": "Python 3",
   "language": "python",
   "name": "python3"
  },
  "language_info": {
   "codemirror_mode": {
    "name": "ipython",
    "version": 3
   },
   "file_extension": ".py",
   "mimetype": "text/x-python",
   "name": "python",
   "nbconvert_exporter": "python",
   "pygments_lexer": "ipython3",
   "version": "3.6.3"
  },
  "toc": {
   "base_numbering": 1,
   "nav_menu": {},
   "number_sections": true,
   "sideBar": true,
   "skip_h1_title": false,
   "title_cell": "Table of Contents",
   "title_sidebar": "Contents",
   "toc_cell": false,
   "toc_position": {
    "height": "calc(100% - 180px)",
    "left": "10px",
    "top": "150px",
    "width": "248.188px"
   },
   "toc_section_display": true,
   "toc_window_display": true
  },
  "varInspector": {
   "cols": {
    "lenName": 16,
    "lenType": 16,
    "lenVar": 40
   },
   "kernels_config": {
    "python": {
     "delete_cmd_postfix": "",
     "delete_cmd_prefix": "del ",
     "library": "var_list.py",
     "varRefreshCmd": "print(var_dic_list())"
    },
    "r": {
     "delete_cmd_postfix": ") ",
     "delete_cmd_prefix": "rm(",
     "library": "var_list.r",
     "varRefreshCmd": "cat(var_dic_list()) "
    }
   },
   "types_to_exclude": [
    "module",
    "function",
    "builtin_function_or_method",
    "instance",
    "_Feature"
   ],
   "window_display": false
  }
 },
 "nbformat": 4,
 "nbformat_minor": 4
}
